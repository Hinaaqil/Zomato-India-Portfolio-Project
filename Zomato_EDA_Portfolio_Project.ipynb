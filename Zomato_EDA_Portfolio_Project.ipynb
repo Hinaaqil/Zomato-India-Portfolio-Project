{
 "cells": [
  {
   "cell_type": "markdown",
   "id": "9f74ac47-0898-4597-a3fd-5b05ec44bb31",
   "metadata": {},
   "source": [
    "                                           Zomato Portfolio Project "
   ]
  },
  {
   "cell_type": "code",
   "execution_count": null,
   "id": "869426e9-b6dc-43aa-8c4b-58a2ec7bc48b",
   "metadata": {},
   "outputs": [],
   "source": []
  },
  {
   "cell_type": "markdown",
   "id": "965a58e7-581f-4949-8786-476141c5277b",
   "metadata": {},
   "source": [
    "Designing a Marketing Campaign for a Restaurant Chain Using Exploratory Data Analysis"
   ]
  },
  {
   "cell_type": "code",
   "execution_count": null,
   "id": "06aae081-4a1d-47f7-a3e7-275469f3e86a",
   "metadata": {},
   "outputs": [],
   "source": []
  },
  {
   "cell_type": "markdown",
   "id": "7a75edb7-616b-4146-9c34-44ba6b5b6c82",
   "metadata": {},
   "source": [
    "Objective:\n",
    "To utilize exploratory data analysis (EDA) skills to understand customer preferences,\n",
    "dining trends, and competitive landscape in various regions of India, and to design\n",
    "an effective marketing campaign for a restaurant chain.\n"
   ]
  },
  {
   "cell_type": "code",
   "execution_count": null,
   "id": "a1382991-7875-495d-beee-9ea6fba6944a",
   "metadata": {},
   "outputs": [],
   "source": []
  },
  {
   "cell_type": "code",
   "execution_count": 133,
   "id": "08fb3a35-30ea-46f9-bf4f-86b4905e5abc",
   "metadata": {},
   "outputs": [],
   "source": [
    "import pandas as pd\n",
    "import numpy as np\n",
    "import seaborn as sns\n",
    "import matplotlib.pyplot as plt"
   ]
  },
  {
   "cell_type": "code",
   "execution_count": 2,
   "id": "58db5e23-82d4-46bd-91c9-f7ecc68a434b",
   "metadata": {},
   "outputs": [],
   "source": [
    "df = pd.read_csv(r'C:\\Users\\ASUS\\Desktop\\Data Science\\Python Portfolio project\\zomato_restaurants_in_India.csv')\n",
    "#df"
   ]
  },
  {
   "cell_type": "code",
   "execution_count": 24,
   "id": "61779489-ef7c-4038-8192-b13cc3b7b4df",
   "metadata": {},
   "outputs": [],
   "source": [
    "#df"
   ]
  },
  {
   "cell_type": "code",
   "execution_count": 4,
   "id": "208e5d77-ab36-427d-925f-b7565c159e14",
   "metadata": {},
   "outputs": [
    {
     "data": {
      "text/plain": [
       "Index(['res_id', 'name', 'establishment', 'url', 'address', 'city', 'city_id',\n",
       "       'locality', 'latitude', 'longitude', 'zipcode', 'country_id',\n",
       "       'locality_verbose', 'cuisines', 'timings', 'average_cost_for_two',\n",
       "       'price_range', 'currency', 'highlights', 'aggregate_rating',\n",
       "       'rating_text', 'votes', 'photo_count', 'opentable_support', 'delivery',\n",
       "       'takeaway'],\n",
       "      dtype='object')"
      ]
     },
     "execution_count": 4,
     "metadata": {},
     "output_type": "execute_result"
    }
   ],
   "source": [
    "df.columns"
   ]
  },
  {
   "cell_type": "code",
   "execution_count": null,
   "id": "c9bd2f43-2868-4261-a1cb-6818fadb5180",
   "metadata": {},
   "outputs": [],
   "source": []
  },
  {
   "cell_type": "markdown",
   "id": "5492de1c-7173-42c8-bab9-90d2709d8e45",
   "metadata": {},
   "source": [
    "Data Cleaning and Preparation:\n",
    "\n",
    "● Identify and handle missing values.\n",
    "● Detect and correct any inconsistencies in the dataset (e.g., data types,mislabeled categories).\n",
    "● Feature engineering (if necessary), like extracting useful information from existing data.\n"
   ]
  },
  {
   "cell_type": "code",
   "execution_count": 5,
   "id": "f3721f84-00c0-422a-9541-87a42fe4bb66",
   "metadata": {},
   "outputs": [
    {
     "data": {
      "text/plain": [
       "(211944, 26)"
      ]
     },
     "execution_count": 5,
     "metadata": {},
     "output_type": "execute_result"
    }
   ],
   "source": [
    "df.shape"
   ]
  },
  {
   "cell_type": "code",
   "execution_count": 208,
   "id": "66f7b8c3-31c8-45e2-93f3-9a4cae54a2b1",
   "metadata": {},
   "outputs": [],
   "source": [
    "#df.info()"
   ]
  },
  {
   "cell_type": "code",
   "execution_count": 7,
   "id": "3eb2cbb3-aadb-48ce-8903-b680453fed20",
   "metadata": {},
   "outputs": [],
   "source": []
  },
  {
   "cell_type": "code",
   "execution_count": 8,
   "id": "f393893d-feb9-476e-b771-bd98b75528be",
   "metadata": {},
   "outputs": [],
   "source": [
    "#columns not needed   -  'url'   'address'\n",
    "df= df.drop(['url','address'],axis=1)"
   ]
  },
  {
   "cell_type": "code",
   "execution_count": 209,
   "id": "8f56abc9-e64e-4f35-8bd1-1601155ceb07",
   "metadata": {},
   "outputs": [],
   "source": [
    "#df.columns"
   ]
  },
  {
   "cell_type": "code",
   "execution_count": null,
   "id": "00dff1f7-f26d-4073-b020-da9a7b037e7d",
   "metadata": {},
   "outputs": [],
   "source": []
  },
  {
   "cell_type": "code",
   "execution_count": null,
   "id": "a9628290-a75f-48d4-95a6-a812c8279828",
   "metadata": {},
   "outputs": [],
   "source": [
    "#droping column with alot of nulls"
   ]
  },
  {
   "cell_type": "code",
   "execution_count": 10,
   "id": "f9af4720-0294-4728-b394-38752aa20c89",
   "metadata": {},
   "outputs": [
    {
     "data": {
      "text/plain": [
       "76.99533839127317"
      ]
     },
     "execution_count": 10,
     "metadata": {},
     "output_type": "execute_result"
    }
   ],
   "source": [
    "(163187/211944)*100                   "
   ]
  },
  {
   "cell_type": "code",
   "execution_count": 11,
   "id": "ec352cec-ab53-4ba8-87cc-c5e8f9f2202e",
   "metadata": {},
   "outputs": [],
   "source": [
    "df.drop(columns=['zipcode'], inplace=True)"
   ]
  },
  {
   "cell_type": "code",
   "execution_count": 210,
   "id": "fd5f91b6-4163-495d-945a-f7a6ef0a20ea",
   "metadata": {},
   "outputs": [],
   "source": [
    "#df.columns"
   ]
  },
  {
   "cell_type": "code",
   "execution_count": 29,
   "id": "6a0fef7d-7d03-4759-9a92-682374cb1888",
   "metadata": {},
   "outputs": [],
   "source": [
    "#df.info()"
   ]
  },
  {
   "cell_type": "code",
   "execution_count": null,
   "id": "3c0fcf6d-ae50-4d16-9e52-16b0863b8e5a",
   "metadata": {},
   "outputs": [],
   "source": []
  },
  {
   "cell_type": "code",
   "execution_count": null,
   "id": "251b0313-132d-4184-bc0f-c41eb294fb88",
   "metadata": {},
   "outputs": [],
   "source": [
    "# droping records with nulls in columns cuisines timings opentable_support"
   ]
  },
  {
   "cell_type": "code",
   "execution_count": 13,
   "id": "4851e3e1-ade9-47b8-8f6c-9f6dac6c3810",
   "metadata": {},
   "outputs": [
    {
     "data": {
      "text/plain": [
       "1.8278413165741894"
      ]
     },
     "execution_count": 13,
     "metadata": {},
     "output_type": "execute_result"
    }
   ],
   "source": [
    "(3874/211944)*100"
   ]
  },
  {
   "cell_type": "code",
   "execution_count": 211,
   "id": "8b58b0f1-bccd-40da-b2f0-9145545b977b",
   "metadata": {},
   "outputs": [],
   "source": [
    "#df.isnull().sum()"
   ]
  },
  {
   "cell_type": "code",
   "execution_count": 15,
   "id": "090323ce-fc99-47eb-8b45-64d67025879a",
   "metadata": {},
   "outputs": [],
   "source": [
    "df.dropna(inplace =True)"
   ]
  },
  {
   "cell_type": "code",
   "execution_count": 212,
   "id": "d7512520-81c1-4887-b551-6bc68b491705",
   "metadata": {},
   "outputs": [],
   "source": [
    "#df.isnull().sum()"
   ]
  },
  {
   "cell_type": "code",
   "execution_count": 17,
   "id": "a9e0189c-1ee0-421c-94f0-e70581dad49a",
   "metadata": {},
   "outputs": [
    {
     "data": {
      "text/plain": [
       "(207023, 23)"
      ]
     },
     "execution_count": 17,
     "metadata": {},
     "output_type": "execute_result"
    }
   ],
   "source": [
    "df.shape                           #(211944, 26)"
   ]
  },
  {
   "cell_type": "code",
   "execution_count": 213,
   "id": "99f1c9fb-c7db-48bf-b687-f84a0101bd30",
   "metadata": {},
   "outputs": [],
   "source": [
    "#df.info()"
   ]
  },
  {
   "cell_type": "code",
   "execution_count": 17,
   "id": "9be14511-45e9-4b54-afa4-3a9b413dfb47",
   "metadata": {},
   "outputs": [
    {
     "data": {
      "text/plain": [
       "(207023, 23)"
      ]
     },
     "execution_count": 17,
     "metadata": {},
     "output_type": "execute_result"
    }
   ],
   "source": [
    "df.shape"
   ]
  },
  {
   "cell_type": "code",
   "execution_count": null,
   "id": "68633f46-1dcc-4434-8b48-e954fe01546a",
   "metadata": {},
   "outputs": [],
   "source": []
  },
  {
   "cell_type": "code",
   "execution_count": null,
   "id": "cb640bc3-8966-41e6-be2b-a91193f1096e",
   "metadata": {},
   "outputs": [],
   "source": []
  },
  {
   "cell_type": "code",
   "execution_count": 18,
   "id": "d4e9333a-0b4b-4524-8381-8561178a0b88",
   "metadata": {},
   "outputs": [
    {
     "data": {
      "text/plain": [
       "148027"
      ]
     },
     "execution_count": 18,
     "metadata": {},
     "output_type": "execute_result"
    }
   ],
   "source": [
    "# dropping duplicates\n",
    "df.duplicated().sum()"
   ]
  },
  {
   "cell_type": "code",
   "execution_count": 19,
   "id": "f4bf437e-3de2-4fb6-925b-ed1781de05da",
   "metadata": {},
   "outputs": [],
   "source": [
    "df.drop_duplicates(inplace= True)"
   ]
  },
  {
   "cell_type": "code",
   "execution_count": 21,
   "id": "b73964c3-1101-4164-956e-f4c5cd51821b",
   "metadata": {},
   "outputs": [
    {
     "data": {
      "text/plain": [
       "(58996, 23)"
      ]
     },
     "execution_count": 21,
     "metadata": {},
     "output_type": "execute_result"
    }
   ],
   "source": [
    "df.shape"
   ]
  },
  {
   "cell_type": "code",
   "execution_count": null,
   "id": "f67631d3-067d-4b83-b08d-53d926257284",
   "metadata": {},
   "outputs": [],
   "source": []
  },
  {
   "cell_type": "code",
   "execution_count": null,
   "id": "021ed9e9-5696-4f33-a654-21351603d416",
   "metadata": {},
   "outputs": [],
   "source": [
    "# creating copy of df"
   ]
  },
  {
   "cell_type": "code",
   "execution_count": 22,
   "id": "7b9f22d8-aa8c-44fc-9a99-cb290ac19895",
   "metadata": {},
   "outputs": [],
   "source": [
    "df1 = df.copy()"
   ]
  },
  {
   "cell_type": "code",
   "execution_count": 23,
   "id": "d2abfbaf-36ed-4bca-9713-4a9df13bd94a",
   "metadata": {},
   "outputs": [
    {
     "data": {
      "text/plain": [
       "(58996, 23)"
      ]
     },
     "execution_count": 23,
     "metadata": {},
     "output_type": "execute_result"
    }
   ],
   "source": [
    "df1.shape"
   ]
  },
  {
   "cell_type": "code",
   "execution_count": 205,
   "id": "0d822355-b53b-4e90-8068-28eea0ef4700",
   "metadata": {},
   "outputs": [],
   "source": [
    "#df1.info()\n",
    "#df1.head()"
   ]
  },
  {
   "cell_type": "code",
   "execution_count": 206,
   "id": "e88b4251-b922-4478-93ef-9859dab75a6f",
   "metadata": {},
   "outputs": [],
   "source": [
    "#df1.columns"
   ]
  },
  {
   "cell_type": "code",
   "execution_count": 207,
   "id": "aa41a4a1-8fd0-44d9-8df6-d488c8b76faa",
   "metadata": {},
   "outputs": [],
   "source": [
    "#df1.dtypes"
   ]
  },
  {
   "cell_type": "code",
   "execution_count": null,
   "id": "23d1bf81-3b41-4136-9149-988bbf48ae92",
   "metadata": {},
   "outputs": [],
   "source": [
    "# One by one fixing every column"
   ]
  },
  {
   "cell_type": "code",
   "execution_count": null,
   "id": "689fbfdc-ee1d-4357-be49-68994f2e3d16",
   "metadata": {},
   "outputs": [],
   "source": [
    "# 'aggregate_rating'"
   ]
  },
  {
   "cell_type": "code",
   "execution_count": 30,
   "id": "b1ef001c-0e53-4319-8e8c-9f995f52fa9e",
   "metadata": {},
   "outputs": [
    {
     "data": {
      "text/plain": [
       "array([4.4, 4.2, 4.3, 4.9, 4. , 3.8, 3.4, 4.1, 3.5, 4.6, 3.9, 3.6, 4.5,\n",
       "       4.7, 3.7, 4.8, 3.2, 0. , 3.3, 2.8, 3.1, 2.6, 3. , 2.7, 2.9, 2.2,\n",
       "       2.3, 2.4, 2.5, 2.1, 1.8, 2. , 1.9])"
      ]
     },
     "execution_count": 30,
     "metadata": {},
     "output_type": "execute_result"
    }
   ],
   "source": [
    "df1['aggregate_rating'].unique()"
   ]
  },
  {
   "cell_type": "code",
   "execution_count": null,
   "id": "f537367f-ac28-47a7-8490-b53997774c0f",
   "metadata": {},
   "outputs": [],
   "source": []
  },
  {
   "cell_type": "code",
   "execution_count": null,
   "id": "f5874ad1-cc27-4299-88bd-84cc6281fdec",
   "metadata": {},
   "outputs": [],
   "source": [
    "#city locality and locality_verbose have same info"
   ]
  },
  {
   "cell_type": "code",
   "execution_count": 40,
   "id": "ec504bf5-3a31-45c2-b349-3b6d6d05ae4a",
   "metadata": {},
   "outputs": [],
   "source": [
    "#df.head()"
   ]
  },
  {
   "cell_type": "code",
   "execution_count": 37,
   "id": "7c590d3f-48ff-499a-b529-3a9fd29d069c",
   "metadata": {},
   "outputs": [
    {
     "data": {
      "text/plain": [
       "3726"
      ]
     },
     "execution_count": 37,
     "metadata": {},
     "output_type": "execute_result"
    }
   ],
   "source": [
    "df1['locality'].nunique()"
   ]
  },
  {
   "cell_type": "code",
   "execution_count": 38,
   "id": "5c3dbb0f-1701-48ff-b929-bc062bdfe343",
   "metadata": {},
   "outputs": [
    {
     "data": {
      "text/plain": [
       "99"
      ]
     },
     "execution_count": 38,
     "metadata": {},
     "output_type": "execute_result"
    }
   ],
   "source": [
    "df1['city'].nunique()"
   ]
  },
  {
   "cell_type": "code",
   "execution_count": 39,
   "id": "f0bcdf19-1881-4438-84c0-07e7bb76cb97",
   "metadata": {},
   "outputs": [
    {
     "data": {
      "text/plain": [
       "3904"
      ]
     },
     "execution_count": 39,
     "metadata": {},
     "output_type": "execute_result"
    }
   ],
   "source": [
    "df1['locality_verbose'].nunique()"
   ]
  },
  {
   "cell_type": "code",
   "execution_count": null,
   "id": "9d8f0472-22ff-405b-a518-8d6a7bc7f60a",
   "metadata": {},
   "outputs": [],
   "source": []
  },
  {
   "cell_type": "code",
   "execution_count": 44,
   "id": "60fb74c1-1800-4562-ae5f-1501ca9de7ee",
   "metadata": {},
   "outputs": [],
   "source": [
    "#df1.head()"
   ]
  },
  {
   "cell_type": "code",
   "execution_count": 105,
   "id": "159b53fa-af45-4f73-9a85-7c4bfb3af076",
   "metadata": {},
   "outputs": [],
   "source": [
    "#dropping more unwanted columns    ---   city_id   latitude   latitude country_id\n",
    "#df1= df1.drop(['city_id','latitude','longitude','country_id'],axis=1)"
   ]
  },
  {
   "cell_type": "code",
   "execution_count": 46,
   "id": "93e68f07-3b1f-434e-b361-672a7f206e58",
   "metadata": {},
   "outputs": [
    {
     "data": {
      "text/plain": [
       "(58996, 20)"
      ]
     },
     "execution_count": 46,
     "metadata": {},
     "output_type": "execute_result"
    }
   ],
   "source": [
    "df1.shape"
   ]
  },
  {
   "cell_type": "code",
   "execution_count": 214,
   "id": "afb9c4af-795f-4f1c-9022-15925862a018",
   "metadata": {},
   "outputs": [],
   "source": [
    "#df1.head(3)"
   ]
  },
  {
   "cell_type": "code",
   "execution_count": null,
   "id": "b01d6c77-93bb-4a38-914e-6bfe449bae4d",
   "metadata": {},
   "outputs": [],
   "source": []
  },
  {
   "cell_type": "code",
   "execution_count": 215,
   "id": "7d62dd3e-14e1-485c-8f3a-16c6e47fc884",
   "metadata": {},
   "outputs": [],
   "source": [
    "#df1['average_cost_for_two'].unique()"
   ]
  },
  {
   "cell_type": "code",
   "execution_count": null,
   "id": "59814bc9-e41f-4470-b796-eb18cc977b0b",
   "metadata": {},
   "outputs": [],
   "source": []
  },
  {
   "cell_type": "code",
   "execution_count": 101,
   "id": "9a97a047-ded7-4fa2-9348-fa8a43059979",
   "metadata": {},
   "outputs": [],
   "source": [
    "#df1['establishment'].value_counts() "
   ]
  },
  {
   "cell_type": "code",
   "execution_count": 102,
   "id": "a39c534d-c0dd-46e3-898b-a02d57e191ff",
   "metadata": {},
   "outputs": [],
   "source": [
    "#df1['establishment'].unique()"
   ]
  },
  {
   "cell_type": "markdown",
   "id": "44c118d0-da93-444c-ab78-629db285d304",
   "metadata": {},
   "source": [
    "GPT 3.5\n",
    "given above value counts of establishment column suggest how should i treat [ ]?\n",
    "\n",
    "The entry [ ] in the 'establishment' column likely represents missing or unspecified data. Here are a few ways you could handle it:\n",
    "Remove the rows: If having missing establishment information for these rows is not critical for your analysis, you can simply remove these rows from your DataFrame.\n",
    "Impute missing values: If removing these rows would result in losing important data, you might consider imputing the missing values. For categorical data like this, you could replace [ ] with a category like 'Unknown' or the most common establishment type.\n",
    "Replace with Mode: Replace the [ ] entries with the mode (most frequent value) of the 'establishment' column. This is especially useful if the mode represents a common establishment type.\n",
    "and more....."
   ]
  },
  {
   "cell_type": "code",
   "execution_count": 58,
   "id": "b57e66b7-f94f-401a-9c2a-15356c832a11",
   "metadata": {},
   "outputs": [],
   "source": [
    "df1['establishment'] = df1['establishment'].replace('[]', 'Others')"
   ]
  },
  {
   "cell_type": "code",
   "execution_count": null,
   "id": "b1f2b307-e7bd-4ee8-9149-acde1651805c",
   "metadata": {},
   "outputs": [],
   "source": []
  },
  {
   "cell_type": "code",
   "execution_count": 216,
   "id": "1bd6ece0-f207-4883-9dbe-78382102e3ff",
   "metadata": {
    "scrolled": true
   },
   "outputs": [],
   "source": [
    "#df1['establishment'].value_counts() "
   ]
  },
  {
   "cell_type": "code",
   "execution_count": 217,
   "id": "0ddcf3a5-d0e2-4ddd-90a0-ace4c7475c5c",
   "metadata": {},
   "outputs": [],
   "source": [
    "#df1['establishment'] = df1['establishment'].str.rstrip(\"[']\")\n",
    "#df1['establishment'] = df1['establishment'].str.rstrip(\" [\")\n",
    "#df1['establishment'].value_counts() "
   ]
  },
  {
   "cell_type": "code",
   "execution_count": 97,
   "id": "3a449fd7-78b4-461b-bc8c-f7ada4ae6a13",
   "metadata": {},
   "outputs": [],
   "source": [
    "#df1['establishment'].value_counts() "
   ]
  },
  {
   "cell_type": "code",
   "execution_count": 218,
   "id": "285ccf7a-aa59-4471-bcfb-24cc8ab9f909",
   "metadata": {},
   "outputs": [],
   "source": [
    "#df1['establishment'] = df1['establishment'].str.lstrip(\"['\")\n",
    "#df1['establishment']"
   ]
  },
  {
   "cell_type": "code",
   "execution_count": 219,
   "id": "3d536330-3a6d-4092-8e8a-7c490a25f3d9",
   "metadata": {},
   "outputs": [],
   "source": [
    "#df1['establishment'].value_counts() "
   ]
  },
  {
   "cell_type": "code",
   "execution_count": null,
   "id": "e2b61930-c11a-4220-aea3-53aad6b5c660",
   "metadata": {},
   "outputs": [],
   "source": []
  },
  {
   "cell_type": "code",
   "execution_count": 108,
   "id": "2abc767a-8b5d-48c1-9225-f0afeb5aaf7b",
   "metadata": {},
   "outputs": [],
   "source": [
    "#df1.head(3)"
   ]
  },
  {
   "cell_type": "code",
   "execution_count": 106,
   "id": "7cd2afbb-507d-42c7-ab3a-d6a367bdc217",
   "metadata": {},
   "outputs": [],
   "source": [
    "df1= df1.drop(['longitude'],axis=1)"
   ]
  },
  {
   "cell_type": "code",
   "execution_count": 220,
   "id": "f3748878-1aa7-4fd2-b92c-c0a4bf718d70",
   "metadata": {},
   "outputs": [],
   "source": [
    "#df1\n",
    "#df1.head(3)"
   ]
  },
  {
   "cell_type": "code",
   "execution_count": null,
   "id": "da49b765-24f6-43b2-a50c-ef8a8763a77b",
   "metadata": {},
   "outputs": [],
   "source": [
    "df1['locality_verbose'].nunique()"
   ]
  },
  {
   "cell_type": "code",
   "execution_count": 114,
   "id": "1dee806c-9a12-42e3-abea-1e76d1f017b9",
   "metadata": {},
   "outputs": [
    {
     "data": {
      "text/plain": [
       "3726"
      ]
     },
     "execution_count": 114,
     "metadata": {},
     "output_type": "execute_result"
    }
   ],
   "source": [
    "#df['locality'].value_counts\n",
    "df1['locality'].nunique()                          #58996"
   ]
  },
  {
   "cell_type": "code",
   "execution_count": 221,
   "id": "7e587c3e-9eec-408a-9afc-082390c654df",
   "metadata": {},
   "outputs": [],
   "source": [
    "#df1['locality'].value_counts(ascending = False)"
   ]
  },
  {
   "cell_type": "code",
   "execution_count": 222,
   "id": "3975f1cd-55c2-4b55-8c02-965a961ffced",
   "metadata": {},
   "outputs": [],
   "source": [
    "#locality = df1['locality'].value_counts(ascending = False)\n",
    "#location_lessthan50 = locality[locality<30]\n",
    "#location_lessthan50"
   ]
  },
  {
   "cell_type": "code",
   "execution_count": null,
   "id": "454c1666-a048-4e80-83c8-9dde3d51923e",
   "metadata": {},
   "outputs": [],
   "source": [
    "# lets try fuzzywuzzy"
   ]
  },
  {
   "cell_type": "code",
   "execution_count": null,
   "id": "07b705bb-0414-4dc8-9dea-ed0bf76de12a",
   "metadata": {},
   "outputs": [],
   "source": []
  },
  {
   "cell_type": "code",
   "execution_count": 223,
   "id": "105bb34f-744e-4a57-8fac-1c853e8d7fc5",
   "metadata": {},
   "outputs": [],
   "source": [
    "#df1['cuisines'].value_counts(ascending = False)"
   ]
  },
  {
   "cell_type": "code",
   "execution_count": null,
   "id": "d93c7ace-56bb-4e2f-878d-bedbf1084aa2",
   "metadata": {},
   "outputs": [],
   "source": []
  },
  {
   "cell_type": "code",
   "execution_count": null,
   "id": "45e65f73-5ab0-4da6-836c-f51b4d7ede8c",
   "metadata": {},
   "outputs": [],
   "source": []
  },
  {
   "cell_type": "code",
   "execution_count": null,
   "id": "9abf55ff-26ef-462f-a3fc-e0fe165f371b",
   "metadata": {},
   "outputs": [],
   "source": []
  },
  {
   "cell_type": "code",
   "execution_count": 132,
   "id": "f508cc73-b0b7-479e-89fe-a6f4e121a773",
   "metadata": {},
   "outputs": [],
   "source": [
    "df1.to_csv(r'C:\\Users\\ASUS\\Desktop\\Data Science\\Python Portfolio project\\new_zomato_resta.csv', index=False)"
   ]
  },
  {
   "cell_type": "code",
   "execution_count": 134,
   "id": "54facb4c-5daf-4f48-9729-32b77887ffe2",
   "metadata": {},
   "outputs": [],
   "source": [
    "df1 = pd.read_csv(r'C:\\Users\\ASUS\\Desktop\\Data Science\\Python Portfolio project\\new_zomato_resta.csv')\n",
    "#df"
   ]
  },
  {
   "cell_type": "code",
   "execution_count": 137,
   "id": "6012c1fa-b1c0-4187-8902-a598054b28dc",
   "metadata": {},
   "outputs": [],
   "source": [
    "#df1"
   ]
  },
  {
   "cell_type": "code",
   "execution_count": 224,
   "id": "59a87de9-d4ea-4a04-9ab8-fb7dd21de3ee",
   "metadata": {},
   "outputs": [],
   "source": [
    "#df.dtypes"
   ]
  },
  {
   "cell_type": "code",
   "execution_count": 143,
   "id": "ed738120-744e-4af2-af14-d5f05f23db42",
   "metadata": {},
   "outputs": [
    {
     "data": {
      "text/plain": [
       "array([4.4, 4.2, 4.3, 4.9, 4. , 3.8, 3.4, 4.1, 3.5, 4.6, 3.9, 3.6, 4.5,\n",
       "       4.7, 3.7, 4.8, 3.2, 0. , 3.3, 2.8, 3.1, 2.6, 3. , 2.7, 2.9, 2.2,\n",
       "       2.3, 2.4, 2.5, 2.1, 1.8, 2. , 1.9])"
      ]
     },
     "execution_count": 143,
     "metadata": {},
     "output_type": "execute_result"
    }
   ],
   "source": [
    "df1['aggregate_rating'].unique()"
   ]
  },
  {
   "cell_type": "code",
   "execution_count": 144,
   "id": "75981959-0639-488b-8a41-bfac36b4e8f9",
   "metadata": {},
   "outputs": [],
   "source": [
    "df1.rename(columns = {'aggregate_rating': 'rating'}, inplace = True)"
   ]
  },
  {
   "cell_type": "code",
   "execution_count": 146,
   "id": "bb5f8f07-634a-4d44-8c29-07a2320d9de3",
   "metadata": {},
   "outputs": [],
   "source": [
    "#df1.columns"
   ]
  },
  {
   "cell_type": "code",
   "execution_count": 149,
   "id": "51edb34d-7ed4-41da-9637-e8989a085810",
   "metadata": {},
   "outputs": [
    {
     "data": {
      "text/plain": [
       "array(['Quick Bites', 'Casual Dining', 'Bakery', 'Café', 'Dhaba',\n",
       "       'Bhojanalya', 'Bar', 'Sweet Shop', 'Fine Dining', 'Food Truck',\n",
       "       'Dessert Parlour', 'Lounge', 'Pub', 'Beverage Shop', 'Kiosk',\n",
       "       'Paan Shop', 'Confectionery', 'Others', 'Club', 'Food Court',\n",
       "       'Shack', 'Mess', 'Butcher Shop', 'Microbrewery', 'Cocktail Bar',\n",
       "       'Pop up', 'Irani Cafe'], dtype=object)"
      ]
     },
     "execution_count": 149,
     "metadata": {},
     "output_type": "execute_result"
    }
   ],
   "source": [
    "#df1['average_cost_for_two'].unique()\n",
    "df1['establishment'].unique()                #Removed special characters replaced [ ] with others  "
   ]
  },
  {
   "cell_type": "code",
   "execution_count": 160,
   "id": "3489700f-f671-4376-88a2-7662a6f7aa48",
   "metadata": {},
   "outputs": [],
   "source": [
    "#df1.dtypes\n",
    "#df1.drop(columns=['zipcode'], inplace=True)"
   ]
  },
  {
   "cell_type": "code",
   "execution_count": 154,
   "id": "a627a34e-6923-461e-818d-ca97758420f8",
   "metadata": {},
   "outputs": [
    {
     "data": {
      "text/plain": [
       "cuisines\n",
       "North Indian                                                                                  4476\n",
       "Fast Food                                                                                     2084\n",
       "North Indian, Chinese                                                                         1693\n",
       "Bakery                                                                                        1584\n",
       "South Indian                                                                                  1569\n",
       "                                                                                              ... \n",
       "Thai, North Indian, Mughlai, Continental, Chinese                                                1\n",
       "North Indian, Mughlai, Italian, Continental                                                      1\n",
       "South Indian, North Indian, Nepalese, Maharashtrian, Lebanese, Italian, Continental, Asian       1\n",
       "Pizza, Italian, Fast Food, Cafe                                                                  1\n",
       "North Indian, Lucknowi, Chinese                                                                  1\n",
       "Name: count, Length: 9260, dtype: int64"
      ]
     },
     "execution_count": 154,
     "metadata": {},
     "output_type": "execute_result"
    }
   ],
   "source": [
    "#df1['cuisines'].unique() \n",
    "df1['cuisines'].value_counts(ascending = False)"
   ]
  },
  {
   "cell_type": "code",
   "execution_count": 156,
   "id": "6afea3a8-a0ce-419a-8e18-0a1a540a7bc5",
   "metadata": {},
   "outputs": [],
   "source": [
    "cuisines = df1['cuisines'].value_counts(ascending = False)\n",
    "cuisines_lessthan200 = cuisines[cuisines<200]"
   ]
  },
  {
   "cell_type": "code",
   "execution_count": 159,
   "id": "08b34fb2-c07f-4c11-bdab-f17fae297631",
   "metadata": {},
   "outputs": [
    {
     "data": {
      "text/plain": [
       "cuisines\n",
       "others                                  30690\n",
       "North Indian                             4476\n",
       "Fast Food                                2084\n",
       "North Indian, Chinese                    1693\n",
       "Bakery                                   1584\n",
       "South Indian                             1569\n",
       "Street Food                              1208\n",
       "Cafe                                     1156\n",
       "Mithai                                   1015\n",
       "Desserts                                  934\n",
       "Bakery, Desserts                          866\n",
       "Beverages                                 815\n",
       "Finger Food                               647\n",
       "Pizza, Fast Food                          641\n",
       "Mithai, Street Food                       633\n",
       "Chinese                                   626\n",
       "Ice Cream, Desserts                       609\n",
       "Ice Cream                                 560\n",
       "Bakery, Fast Food                         482\n",
       "North Indian, Chinese, Continental        444\n",
       "Biryani                                   408\n",
       "Burger, Fast Food                         406\n",
       "Desserts, Ice Cream                       399\n",
       "North Indian, Mughlai                     348\n",
       "North Indian, Fast Food                   332\n",
       "Desserts, Beverages                       328\n",
       "Cafe, Fast Food                           305\n",
       "Paan                                      292\n",
       "Chinese, North Indian                     273\n",
       "South Indian, North Indian, Chinese       273\n",
       "Juices                                    271\n",
       "Beverages, Desserts, Ice Cream            269\n",
       "Beverages, Cafe, Sandwich, Fast Food      254\n",
       "Fast Food, Beverages                      253\n",
       "Pizza                                     252\n",
       "Beverages, Fast Food                      246\n",
       "North Indian, South Indian, Chinese       245\n",
       "South Indian, North Indian                237\n",
       "Ice Cream, Beverages                      235\n",
       "North Indian, South Indian                226\n",
       "North Indian, Chinese, Fast Food          209\n",
       "Beverages, Juices                         203\n",
       "Name: count, dtype: int64"
      ]
     },
     "execution_count": 159,
     "metadata": {},
     "output_type": "execute_result"
    }
   ],
   "source": [
    "def handle_lessthan200(value):\n",
    "    if(value in cuisines_lessthan200):\n",
    "        return 'others'\n",
    "    else:\n",
    "        return value\n",
    "\n",
    "df1['cuisines'] = df1['cuisines'].apply(handle_lessthan200)\n",
    "df1['cuisines'].value_counts()"
   ]
  },
  {
   "cell_type": "code",
   "execution_count": 183,
   "id": "1f7a0242-5b53-49fa-8b43-b3fbf4e3f2bc",
   "metadata": {},
   "outputs": [],
   "source": [
    "#df1.dtypes\n",
    "#df1['establishment'].unique() "
   ]
  },
  {
   "cell_type": "code",
   "execution_count": 163,
   "id": "74502b35-1ac3-4e9c-a9c8-878995f81d1f",
   "metadata": {},
   "outputs": [],
   "source": [
    "#df1['timings']"
   ]
  },
  {
   "cell_type": "code",
   "execution_count": 166,
   "id": "7207a417-ec06-4d9c-99f9-a6fb6f9aaed8",
   "metadata": {},
   "outputs": [
    {
     "data": {
      "text/plain": [
       "price_range\n",
       "1    29502\n",
       "2    18189\n",
       "3     8259\n",
       "4     3046\n",
       "Name: count, dtype: int64"
      ]
     },
     "execution_count": 166,
     "metadata": {},
     "output_type": "execute_result"
    }
   ],
   "source": [
    "#df1['price_range'].unique() \n",
    "df1['price_range'].value_counts()"
   ]
  },
  {
   "cell_type": "code",
   "execution_count": 167,
   "id": "f427c69c-3945-42a9-988b-cdae57efba07",
   "metadata": {},
   "outputs": [
    {
     "data": {
      "text/plain": [
       "currency\n",
       "Rs.    58996\n",
       "Name: count, dtype: int64"
      ]
     },
     "execution_count": 167,
     "metadata": {},
     "output_type": "execute_result"
    }
   ],
   "source": [
    "df1['currency'].value_counts()"
   ]
  },
  {
   "cell_type": "code",
   "execution_count": 169,
   "id": "2be9291f-b492-4dc6-acf9-d76c8dce1c9a",
   "metadata": {},
   "outputs": [],
   "source": [
    "#df1['highlights'].value_counts()"
   ]
  },
  {
   "cell_type": "code",
   "execution_count": 178,
   "id": "d234ac7f-e617-4cb1-a9e1-f78e6d59aad8",
   "metadata": {},
   "outputs": [
    {
     "data": {
      "text/plain": [
       "array(['Very Good', 'Excellent', 'Good', 'Average', 'Not rated', 'Poor',\n",
       "       'Dobré', 'Baik', 'Sangat Baik', 'Excelente', 'Bardzo dobrze',\n",
       "       'Wybitnie', 'Ottimo', 'Muito Bom', 'Velmi dobré', 'Skvělá volba',\n",
       "       'Muy Bueno', 'Bom', 'İyi', 'Çok iyi', 'Harika', 'Terbaik',\n",
       "       'Skvělé', 'Průměr', 'Ortalama', 'Bueno', 'Eccellente', 'Muito bom',\n",
       "       'Dobrze', 'Buono', 'Média', 'Scarso', 'Promedio', 'Veľmi dobré',\n",
       "       'Vynikajúce', 'Średnio', 'Priemer', 'Biasa', 'Media'], dtype=object)"
      ]
     },
     "execution_count": 178,
     "metadata": {},
     "output_type": "execute_result"
    }
   ],
   "source": [
    "df1['rating_text'].unique()"
   ]
  },
  {
   "cell_type": "code",
   "execution_count": 181,
   "id": "13606e20-1d6d-4461-afec-d4bef7cb4f60",
   "metadata": {},
   "outputs": [],
   "source": [
    "# Define a dictionary mapping non-English terms to their English equivalents\n",
    "translation_dict = {'Dobré': 'Good','Baik': 'Good', 'Sangat Baik': 'Very Good','Excelente': 'Excellent', 'Bardzo dobrze': 'Very Good',\n",
    "    'Wybitnie': 'Outstanding','Ottimo': 'Excellent', 'Muito Bom': 'Very Good', 'Velmi dobré': 'Very Good', 'Skvělá volba': 'Great choice',\n",
    "    'Muy Bueno': 'Very Good', 'Bom': 'Good','İyi': 'Good', 'Çok iyi': 'Very Good', 'Harika': 'Great', 'Terbaik': 'Best',\n",
    "    'Skvělé': 'Great','Průměr': 'Average', 'Ortalama': 'Average','Bueno': 'Good','Eccellente': 'Excellent','Muito bom': 'Very Good', 'Dobrze': 'Good',\n",
    "    'Buono': 'Good','Média': 'Average','Scarso': 'Poor','Promedio': 'Average', 'Veľmi dobré': 'Very Good','Vynikajúce': 'Excellent', 'Średnio': 'Average',\n",
    "    'Priemer': 'Average','Biasa': 'Normal','Media': 'Average'}\n",
    "\n",
    "# Replace non-English terms in 'rating_text' column\n",
    "df1['rating_text'].replace(translation_dict).value_counts()\n",
    "df1['rating_text'] = df1['rating_text'].replace(translation_dict)"
   ]
  },
  {
   "cell_type": "code",
   "execution_count": 182,
   "id": "da63cbdd-cad5-473a-8f16-fc696287c032",
   "metadata": {},
   "outputs": [
    {
     "data": {
      "text/plain": [
       "array(['Very Good', 'Excellent', 'Good', 'Average', 'Not rated', 'Poor',\n",
       "       'Outstanding', 'Great choice', 'Great', 'Best', 'Normal'],\n",
       "      dtype=object)"
      ]
     },
     "execution_count": 182,
     "metadata": {},
     "output_type": "execute_result"
    }
   ],
   "source": [
    "df1['rating_text'].unique()"
   ]
  },
  {
   "cell_type": "code",
   "execution_count": 184,
   "id": "22ce5eea-216f-4cbd-8544-b45320293e81",
   "metadata": {},
   "outputs": [
    {
     "data": {
      "text/plain": [
       "res_id                    int64\n",
       "name                     object\n",
       "establishment            object\n",
       "city                     object\n",
       "locality                 object\n",
       "locality_verbose         object\n",
       "cuisines                 object\n",
       "timings                  object\n",
       "average_cost_for_two      int64\n",
       "price_range               int64\n",
       "currency                 object\n",
       "highlights               object\n",
       "rating                  float64\n",
       "rating_text              object\n",
       "votes                     int64\n",
       "photo_count               int64\n",
       "opentable_support       float64\n",
       "delivery                  int64\n",
       "takeaway                  int64\n",
       "dtype: object"
      ]
     },
     "execution_count": 184,
     "metadata": {},
     "output_type": "execute_result"
    }
   ],
   "source": [
    "df1.dtypes"
   ]
  },
  {
   "cell_type": "code",
   "execution_count": 187,
   "id": "a9750f27-2c79-41f6-a456-1c7a197dcce6",
   "metadata": {},
   "outputs": [
    {
     "data": {
      "text/plain": [
       "0         814\n",
       "1        1203\n",
       "2         801\n",
       "3         693\n",
       "4         470\n",
       "         ... \n",
       "58991       4\n",
       "58992     111\n",
       "58993     207\n",
       "58994     187\n",
       "58995     128\n",
       "Name: votes, Length: 58996, dtype: int64"
      ]
     },
     "execution_count": 187,
     "metadata": {},
     "output_type": "execute_result"
    }
   ],
   "source": [
    "#df1['votes'].value_counts()\n",
    "df1['votes']"
   ]
  },
  {
   "cell_type": "code",
   "execution_count": 188,
   "id": "35436b63-be31-4bba-b4ae-31e5db73b51c",
   "metadata": {},
   "outputs": [
    {
     "data": {
      "text/plain": [
       "0        154\n",
       "1        161\n",
       "2        107\n",
       "3        157\n",
       "4        291\n",
       "        ... \n",
       "58991      1\n",
       "58992     38\n",
       "58993     14\n",
       "58994     40\n",
       "58995     34\n",
       "Name: photo_count, Length: 58996, dtype: int64"
      ]
     },
     "execution_count": 188,
     "metadata": {},
     "output_type": "execute_result"
    }
   ],
   "source": [
    "df1['photo_count']"
   ]
  },
  {
   "cell_type": "code",
   "execution_count": 193,
   "id": "363b781c-7433-43e6-beb4-33602434fd70",
   "metadata": {},
   "outputs": [
    {
     "data": {
      "text/plain": [
       "array([0.])"
      ]
     },
     "execution_count": 193,
     "metadata": {},
     "output_type": "execute_result"
    }
   ],
   "source": [
    "df1['opentable_support'].unique()"
   ]
  },
  {
   "cell_type": "code",
   "execution_count": 196,
   "id": "db5f8d92-585d-4558-baa0-cb6e35a6e4a4",
   "metadata": {},
   "outputs": [
    {
     "data": {
      "text/plain": [
       "delivery\n",
       "-1    40160\n",
       " 1    18508\n",
       " 0      328\n",
       "Name: count, dtype: int64"
      ]
     },
     "execution_count": 196,
     "metadata": {},
     "output_type": "execute_result"
    }
   ],
   "source": [
    "df1['delivery'].value_counts()"
   ]
  },
  {
   "cell_type": "code",
   "execution_count": 197,
   "id": "db7e9966-5524-43c0-b857-0ba7e0bc447a",
   "metadata": {},
   "outputs": [
    {
     "data": {
      "text/plain": [
       "takeaway\n",
       "-1    58996\n",
       "Name: count, dtype: int64"
      ]
     },
     "execution_count": 197,
     "metadata": {},
     "output_type": "execute_result"
    }
   ],
   "source": [
    "df1['takeaway'].value_counts()"
   ]
  },
  {
   "cell_type": "code",
   "execution_count": 198,
   "id": "42c0fdf9-af59-4f9d-bedf-79fdb1b74fd9",
   "metadata": {},
   "outputs": [
    {
     "data": {
      "text/plain": [
       "(58996, 19)"
      ]
     },
     "execution_count": 198,
     "metadata": {},
     "output_type": "execute_result"
    }
   ],
   "source": [
    "df1.shape"
   ]
  },
  {
   "cell_type": "markdown",
   "id": "1d024bd5-a9c8-45f1-8604-2512f7394acf",
   "metadata": {},
   "source": [
    "#Visualizations"
   ]
  },
  {
   "cell_type": "code",
   "execution_count": 200,
   "id": "c30d87ac-fb31-4a07-a19b-e89a9b6f7484",
   "metadata": {},
   "outputs": [
    {
     "data": {
      "text/plain": [
       "Index(['res_id', 'name', 'establishment', 'city', 'locality',\n",
       "       'locality_verbose', 'cuisines', 'timings', 'average_cost_for_two',\n",
       "       'price_range', 'currency', 'highlights', 'rating', 'rating_text',\n",
       "       'votes', 'photo_count', 'opentable_support', 'delivery', 'takeaway'],\n",
       "      dtype='object')"
      ]
     },
     "execution_count": 200,
     "metadata": {},
     "output_type": "execute_result"
    }
   ],
   "source": [
    "df1.columns"
   ]
  },
  {
   "cell_type": "code",
   "execution_count": null,
   "id": "37264844-b389-4224-8b0b-3b493fe32810",
   "metadata": {},
   "outputs": [],
   "source": []
  },
  {
   "cell_type": "code",
   "execution_count": 201,
   "id": "cd83fd07-9581-4b01-b135-bfe5e6aacaee",
   "metadata": {},
   "outputs": [
    {
     "data": {
      "image/png": "[encoded data removed]",
      "text/plain": [
       "<Figure size 1600x1000 with 1 Axes>"
      ]
     },
     "metadata": {},
     "output_type": "display_data"
    }
   ],
   "source": [
    "#count plot for various cities\n",
    "\n",
    "\n",
    "\n",
    "plt.figure(figsize=(16, 10))\n",
    "ax = sns.countplot(data=df1, x='city')\n",
    "plt.xticks(rotation=90)    #for lables not to overlap\n",
    "plt.show()"
   ]
  },
  {
   "cell_type": "code",
   "execution_count": 202,
   "id": "a31cc9e5-73af-4bdb-a124-1b0f84901fc5",
   "metadata": {},
   "outputs": [
    {
     "data": {
      "text/plain": [
       "delivery\n",
       "-1    40160\n",
       " 1    18508\n",
       " 0      328\n",
       "Name: count, dtype: int64"
      ]
     },
     "execution_count": 202,
     "metadata": {},
     "output_type": "execute_result"
    }
   ],
   "source": [
    "df1['delivery'].value_counts()"
   ]
  },
  {
   "cell_type": "code",
   "execution_count": 203,
   "id": "5c14902a-1782-42ab-b8d8-136860b9bbbe",
   "metadata": {},
   "outputs": [
    {
     "data": {
      "text/plain": [
       "delivery\n",
       "Yes      40160\n",
       "No       18508\n",
       "Maybe      328\n",
       "Name: count, dtype: int64"
      ]
     },
     "execution_count": 203,
     "metadata": {},
     "output_type": "execute_result"
    }
   ],
   "source": [
    "# Define a mapping dictionary\n",
    "delivery_mapping = {1: 'No', 0: 'Maybe', -1: 'Yes'}\n",
    "\n",
    "# Replace values in the 'delivery' column\n",
    "df1['delivery'] = df1['delivery'].map(delivery_mapping)\n",
    "df1['delivery'].value_counts()\n"
   ]
  },
  {
   "cell_type": "code",
   "execution_count": 204,
   "id": "445e9480-cff6-4e23-9e88-4f8777d3dc72",
   "metadata": {},
   "outputs": [
    {
     "data": {
      "image/png": "[encoded data removed]",
      "text/plain": [
       "<Figure size 600x600 with 1 Axes>"
      ]
     },
     "metadata": {},
     "output_type": "display_data"
    }
   ],
   "source": [
    "#visualizing online order\n",
    "\n",
    "plt.figure(figsize = (6,6))\n",
    "ax = sns.countplot(data =df1, x='delivery', palette = 'inferno')\n",
    "plt.show()"
   ]
  },
  {
   "cell_type": "code",
   "execution_count": null,
   "id": "91f64dde-4175-49ba-b9c0-f58639bb8b96",
   "metadata": {},
   "outputs": [],
   "source": []
  }
 ],
 "metadata": {
  "kernelspec": {
   "display_name": "Python 3 (ipykernel)",
   "language": "python",
   "name": "python3"
  },
  "language_info": {
   "codemirror_mode": {
    "name": "ipython",
    "version": 3
   },
   "file_extension": ".py",
   "mimetype": "text/x-python",
   "name": "python",
   "nbconvert_exporter": "python",
   "pygments_lexer": "ipython3",
   "version": "3.11.7"
  }
 },
 "nbformat": 4,
 "nbformat_minor": 5
}
